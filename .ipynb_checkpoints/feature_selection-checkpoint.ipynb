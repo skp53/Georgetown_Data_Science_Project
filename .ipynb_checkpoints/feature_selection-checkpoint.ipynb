{
 "cells": [
  {
   "cell_type": "markdown",
   "metadata": {
    "collapsed": false
   },
   "source": [
    "## Feature Selection for Marine Incident Data\n",
    "\n",
    "Remember: Our goal is to find the smallest set of the available features such that the fitted model will reach its maximal predictive value.\n"
   ]
  },
  {
   "cell_type": "markdown",
   "metadata": {},
   "source": [
    "### Import"
   ]
  },
  {
   "cell_type": "code",
   "execution_count": 15,
   "metadata": {
    "collapsed": false
   },
   "outputs": [],
   "source": [
    "import os\n",
    "import zipfile\n",
    "import requests\n",
    "import pandas as pd\n",
    "\n",
    "from sklearn.decomposition import PCA\n",
    "from sklearn.feature_selection import SelectFromModel\n",
    "from sklearn.linear_model import Ridge, Lasso, ElasticNet\n",
    "from sklearn.discriminant_analysis import LinearDiscriminantAnalysis as LDA"
   ]
  },
  {
   "cell_type": "markdown",
   "metadata": {},
   "source": [
    "### Load Casualty data into Panda Dataframe"
   ]
  },
  {
   "cell_type": "code",
   "execution_count": 18,
   "metadata": {
    "collapsed": false
   },
   "outputs": [],
   "source": [
    "incident = pd.read_csv(os.path.abspath('mvinjury_data.txt'), sep='\\t')"
   ]
  },
  {
   "cell_type": "code",
   "execution_count": 19,
   "metadata": {
    "collapsed": false
   },
   "outputs": [
    {
     "data": {
      "text/html": [
       "<div>\n",
       "<table border=\"1\" class=\"dataframe\">\n",
       "  <thead>\n",
       "    <tr style=\"text-align: right;\">\n",
       "      <th></th>\n",
       "      <th>77104.0</th>\n",
       "      <th>739.2</th>\n",
       "      <th>26.2</th>\n",
       "      <th>7</th>\n",
       "      <th>16.0</th>\n",
       "      <th>7.1</th>\n",
       "      <th>1</th>\n",
       "    </tr>\n",
       "  </thead>\n",
       "  <tbody>\n",
       "    <tr>\n",
       "      <th>0</th>\n",
       "      <td>78878.0</td>\n",
       "      <td>915.2</td>\n",
       "      <td>52.0</td>\n",
       "      <td>7</td>\n",
       "      <td>18.0</td>\n",
       "      <td>7</td>\n",
       "      <td>1</td>\n",
       "    </tr>\n",
       "    <tr>\n",
       "      <th>1</th>\n",
       "      <td>0.0</td>\n",
       "      <td>0.0</td>\n",
       "      <td>0.0</td>\n",
       "      <td>15</td>\n",
       "      <td>0.0</td>\n",
       "      <td>10</td>\n",
       "      <td>1</td>\n",
       "    </tr>\n",
       "    <tr>\n",
       "      <th>2</th>\n",
       "      <td>0.0</td>\n",
       "      <td>0.0</td>\n",
       "      <td>0.0</td>\n",
       "      <td>15</td>\n",
       "      <td>0.0</td>\n",
       "      <td>10</td>\n",
       "      <td>1</td>\n",
       "    </tr>\n",
       "    <tr>\n",
       "      <th>3</th>\n",
       "      <td>159.0</td>\n",
       "      <td>89.3</td>\n",
       "      <td>12.0</td>\n",
       "      <td>8</td>\n",
       "      <td>70.0</td>\n",
       "      <td>10</td>\n",
       "      <td>1</td>\n",
       "    </tr>\n",
       "    <tr>\n",
       "      <th>4</th>\n",
       "      <td>40876.0</td>\n",
       "      <td>679.5</td>\n",
       "      <td>54.8</td>\n",
       "      <td>7</td>\n",
       "      <td>23.0</td>\n",
       "      <td>7</td>\n",
       "      <td>1</td>\n",
       "    </tr>\n",
       "  </tbody>\n",
       "</table>\n",
       "</div>"
      ],
      "text/plain": [
       "   77104.0  739.2  26.2   7  16.0  7.1  1\n",
       "0  78878.0  915.2  52.0   7  18.0    7  1\n",
       "1      0.0    0.0   0.0  15   0.0   10  1\n",
       "2      0.0    0.0   0.0  15   0.0   10  1\n",
       "3    159.0   89.3  12.0   8  70.0   10  1\n",
       "4  40876.0  679.5  54.8   7  23.0    7  1"
      ]
     },
     "execution_count": 19,
     "metadata": {},
     "output_type": "execute_result"
    }
   ],
   "source": [
    "incident.head()"
   ]
  },
  {
   "cell_type": "markdown",
   "metadata": {
    "collapsed": false
   },
   "source": [
    "### Separate dataframe into features and targets"
   ]
  },
  {
   "cell_type": "code",
   "execution_count": 5,
   "metadata": {
    "collapsed": false
   },
   "outputs": [],
   "source": [
    "features = incident[['gross_ton', 'vlength', 'vdepth', 'vessel_class', 'vessel_age','route_type']]\n",
    "labels   = incident['mvaccident']"
   ]
  },
  {
   "cell_type": "code",
   "execution_count": 6,
   "metadata": {
    "collapsed": false
   },
   "outputs": [
    {
     "data": {
      "text/plain": [
       "['gross_ton', 'vlength', 'vdepth', 'vessel_class', 'vessel_age', 'route_type']"
      ]
     },
     "execution_count": 6,
     "metadata": {},
     "output_type": "execute_result"
    }
   ],
   "source": [
    "list(features)"
   ]
  },
  {
   "cell_type": "markdown",
   "metadata": {},
   "source": [
    "# Regularization techniques\n",
    "\n",
    "## LASSO (L1 Regularization)\n",
    "\n",
    "LASSO forces weak features to have zeroes as coefficients, effectively dropping the least predictive features."
   ]
  },
  {
   "cell_type": "code",
   "execution_count": 7,
   "metadata": {
    "collapsed": false
   },
   "outputs": [
    {
     "name": "stdout",
     "output_type": "stream",
     "text": [
      "[('gross_ton', -2.497954358162039e-06), ('vlength', -0.0), ('vdepth', -0.0), ('vessel_class', -0.0), ('vessel_age', -0.0), ('route_type', 0.0)]\n"
     ]
    }
   ],
   "source": [
    "model = Lasso()\n",
    "model.fit(features, labels)\n",
    "print(list(zip(features, model.coef_.tolist())))"
   ]
  },
  {
   "cell_type": "markdown",
   "metadata": {},
   "source": [
    "## Ridge Regression (L2 Regularization)\n",
    "Ridge assigns every feature a weight, but spreads the coefficient values out more equally, shrinking but still maintaining less predictive features."
   ]
  },
  {
   "cell_type": "code",
   "execution_count": 8,
   "metadata": {
    "collapsed": false
   },
   "outputs": [
    {
     "name": "stdout",
     "output_type": "stream",
     "text": [
      "[('gross_ton', -1.6965913915944255e-06), ('vlength', -2.8641415292864543e-05), ('vdepth', -5.231098386642935e-06), ('vessel_class', -0.0018595296377288482), ('vessel_age', 4.245988864335589e-07), ('route_type', 0.022362274286642756)]\n"
     ]
    }
   ],
   "source": [
    "model = Ridge()\n",
    "model.fit(features, labels)\n",
    "print(list(zip(features, model.coef_.tolist())))"
   ]
  },
  {
   "cell_type": "markdown",
   "metadata": {},
   "source": [
    "## ElasticNet\n",
    "ElasticNet is a linear combination of L1 and L2 regularization, meaning it combines Ridge and LASSO and essentially splits the difference."
   ]
  },
  {
   "cell_type": "code",
   "execution_count": 9,
   "metadata": {
    "collapsed": false
   },
   "outputs": [
    {
     "name": "stdout",
     "output_type": "stream",
     "text": [
      "[('gross_ton', -2.0661027971052734e-06), ('vlength', -4.214371759079565e-05), ('vdepth', -0.0), ('vessel_class', -0.0), ('vessel_age', -0.0), ('route_type', 0.0)]\n"
     ]
    }
   ],
   "source": [
    "model = ElasticNet(l1_ratio=0.10)\n",
    "model.fit(features, labels)\n",
    "print(list(zip(features, model.coef_.tolist())))"
   ]
  },
  {
   "cell_type": "markdown",
   "metadata": {},
   "source": [
    "## Transformer methods\n",
    "SelectFromModel()\n",
    "\n",
    "Scikit-Learn has a meta-transformer method for selecting features based on importance weights."
   ]
  },
  {
   "cell_type": "code",
   "execution_count": 10,
   "metadata": {
    "collapsed": false
   },
   "outputs": [
    {
     "name": "stdout",
     "output_type": "stream",
     "text": [
      "[]\n"
     ]
    }
   ],
   "source": [
    "model = Lasso()\n",
    "sfm = SelectFromModel(model)\n",
    "sfm.fit(features, labels)\n",
    "print(list(features[sfm.get_support(indices=True)]))"
   ]
  },
  {
   "cell_type": "code",
   "execution_count": 11,
   "metadata": {
    "collapsed": false
   },
   "outputs": [
    {
     "name": "stdout",
     "output_type": "stream",
     "text": [
      "['route_type']\n"
     ]
    }
   ],
   "source": [
    "model = Ridge()\n",
    "sfm = SelectFromModel(model)\n",
    "sfm.fit(features, labels)\n",
    "print(list(features[sfm.get_support(indices=True)]))"
   ]
  },
  {
   "cell_type": "code",
   "execution_count": 18,
   "metadata": {
    "collapsed": false
   },
   "outputs": [
    {
     "name": "stdout",
     "output_type": "stream",
     "text": [
      "['gross_ton', 'vlength']\n"
     ]
    }
   ],
   "source": [
    "model = ElasticNet()\n",
    "sfm = SelectFromModel(model)\n",
    "sfm.fit(features, labels)\n",
    "print(list(features[sfm.get_support(indices=True)]))"
   ]
  },
  {
   "cell_type": "markdown",
   "metadata": {},
   "source": [
    "## Dimensionality reduction\n",
    "\n",
    "### Principal component analysis (PCA)\n",
    "\n",
    "Linear dimensionality reduction using Singular Value Decomposition (SVD) of the data and keeping only the most significant singular vectors to project the data into a lower dimensional space.\n",
    "Unsupervised method\n",
    "Uses a signal representation criterion\n",
    "Identifies the combination of attributes that account for the most variance in the data."
   ]
  },
  {
   "cell_type": "code",
   "execution_count": 12,
   "metadata": {
    "collapsed": false
   },
   "outputs": [
    {
     "name": "stdout",
     "output_type": "stream",
     "text": [
      "[[ -7.60824449e+04  -1.26765074e+00]\n",
      " [ -7.78582271e+04  -3.26403264e+00]\n",
      " [  1.02505407e+03   2.89195639e+01]\n",
      " ..., \n",
      " [  1.01070622e+03   2.59865451e+01]\n",
      " [  1.00870036e+03  -2.01267132e+00]\n",
      " [  1.01172883e+03   2.09820308e+01]]\n"
     ]
    }
   ],
   "source": [
    "pca = PCA(n_components=2)\n",
    "new_features = pca.fit(features).transform(features)\n",
    "print(new_features)"
   ]
  },
  {
   "cell_type": "markdown",
   "metadata": {},
   "source": [
    "### Linear discriminant analysis (LDA)\n",
    "\n",
    "A classifier with a linear decision boundary, generated by fitting class conditional densities to the data and using Bayes’ rule. The model fits a Gaussian density to each class, assuming that all classes share the same covariance matrix. Can be used to reduce the dimensionality of the input by projecting it to the most discriminative directions.\n",
    "Supervised method\n",
    "Uses a classification criterion\n",
    "Tries to identify attributes that account for the most variance between classes."
   ]
  },
  {
   "cell_type": "code",
   "execution_count": 13,
   "metadata": {
    "collapsed": false
   },
   "outputs": [
    {
     "name": "stdout",
     "output_type": "stream",
     "text": [
      "[[-7.71751057]\n",
      " [-8.01647411]\n",
      " [-0.25409447]\n",
      " ..., \n",
      " [ 0.1852445 ]\n",
      " [ 0.18455688]\n",
      " [ 0.18762924]]\n"
     ]
    }
   ],
   "source": [
    "lda = LDA(n_components=2)\n",
    "new_features = lda.fit(features, labels).transform(features)\n",
    "print(new_features)"
   ]
  },
  {
   "cell_type": "code",
   "execution_count": 14,
   "metadata": {
    "collapsed": false
   },
   "outputs": [
    {
     "name": "stdout",
     "output_type": "stream",
     "text": [
      "- casualty-knn-classifier.pickle\n",
      "- casualty-random-forest-classifier.pickle\n",
      "- casualty-svm-classifier.pickle\n",
      "- data\n",
      "- data_extraction_casualty.ipynb\n",
      "- feature_selection_casualty.ipynb\n",
      "- injurydata.txt\n",
      "- meta - Copy.json\n",
      "- meta.json\n",
      "- misledata.txt\n",
      "- Misledata_final.txt\n",
      "- Misledata_final.zip\n",
      "- MISLEInjurydata_all20161205.txt\n",
      "- MisleVslInijury_data.txt\n",
      "- MisleVslInijury_data_1128.txt\n",
      "- MisleVslInijury_data_clean.txt\n",
      "- MisleVslInjury.xlsx\n",
      "- Misle_Vsl_Injury.ipynb\n",
      "- mvinjury.txt\n",
      "- mvinjury_data.txt\n",
      "- new\n",
      "- README.md\n",
      "- Untitled.ipynb\n",
      "- Untitled1.ipynb\n",
      "- Untitled2.ipynb\n",
      "- Vessel_age_dist.png\n"
     ]
    }
   ],
   "source": []
  },
  {
   "cell_type": "code",
   "execution_count": null,
   "metadata": {
    "collapsed": true
   },
   "outputs": [],
   "source": []
  }
 ],
 "metadata": {
  "anaconda-cloud": {},
  "kernelspec": {
   "display_name": "Python [default]",
   "language": "python",
   "name": "python3"
  },
  "language_info": {
   "codemirror_mode": {
    "name": "ipython",
    "version": 3
   },
   "file_extension": ".py",
   "mimetype": "text/x-python",
   "name": "python",
   "nbconvert_exporter": "python",
   "pygments_lexer": "ipython3",
   "version": "3.5.2"
  }
 },
 "nbformat": 4,
 "nbformat_minor": 1
}
